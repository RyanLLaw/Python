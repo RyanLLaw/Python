{
 "cells": [
  {
   "cell_type": "markdown",
   "id": "3be419b5",
   "metadata": {},
   "source": [
    "1) Have the user enter a file name. Display each line of the file with the line number followed be a : and the line's contents."
   ]
  },
  {
   "cell_type": "code",
   "execution_count": 44,
   "id": "f7645542",
   "metadata": {},
   "outputs": [
    {
     "name": "stdout",
     "output_type": "stream",
     "text": [
      "Enter the name of a file you would like to open:numbers.txt\n",
      "['1', '4', '24', '-5', '-10', '24', '2', '3', '4', '9', '10', '25', '-1', '-2', '-6', '80']\n"
     ]
    }
   ],
   "source": [
    "filename = input(\"Enter the name of a file you would like to open:\")\n",
    "#open function uses the string name provided to open file r is for reading \n",
    "file = open(filename, \"r\")\n",
    "lines = []\n",
    "\n",
    "for line in file:\n",
    "    lines.append(line.rstrip(\"\\n\"))\n",
    "    \n",
    "print(lines)\n",
    "file.close()\n"
   ]
  },
  {
   "cell_type": "code",
   "execution_count": 53,
   "id": "56e1cec0",
   "metadata": {},
   "outputs": [
    {
     "name": "stdout",
     "output_type": "stream",
     "text": [
      "1\n",
      "4\n",
      "24\n",
      "-5\n",
      "-10\n",
      "24\n",
      "2\n",
      "3\n",
      "4\n",
      "9\n",
      "10\n",
      "25\n",
      "-1\n",
      "-2\n",
      "-6\n",
      "80\n"
     ]
    }
   ],
   "source": [
    "file = open(\"numbers.txt\", \"r\")\n",
    "\n",
    "lines = file.readlines()\n",
    "\n",
    "for line in lines: # while there is still data\n",
    "    print(line.rstrip(\"\\n\")) # .rstrip will remove the newline character\n",
    "\n",
    "file.close()"
   ]
  },
  {
   "cell_type": "markdown",
   "id": "e433c02f",
   "metadata": {},
   "source": [
    "2) Sum all of the numbers in numbers.txt\n",
    "\n",
    "Make sure the number is actually a number before you add it!"
   ]
  },
  {
   "cell_type": "code",
   "execution_count": 32,
   "id": "e91b59d2",
   "metadata": {},
   "outputs": [
    {
     "name": "stdout",
     "output_type": "stream",
     "text": [
      "162\n"
     ]
    }
   ],
   "source": [
    "file = open(\"numbers.txt\", \"r\")\n",
    "\n",
    "acc = 0\n",
    "for l in file:\n",
    "    acc += int(l)\n",
    "print(acc)\n",
    "file.close()"
   ]
  },
  {
   "cell_type": "markdown",
   "id": "a37cc782",
   "metadata": {},
   "source": [
    "3) Find the highest and lowest number in numbers.txt"
   ]
  },
  {
   "cell_type": "code",
   "execution_count": 58,
   "id": "9632c3c9",
   "metadata": {},
   "outputs": [
    {
     "name": "stdout",
     "output_type": "stream",
     "text": [
      "Maximum:  80\n",
      "Minimum:  -10\n",
      "['1\\n', '4\\n', '24\\n', '-5\\n', '-10\\n', '24\\n', '2\\n', '3\\n', '4\\n', '9\\n', '10\\n', '25\\n', '-1\\n', '-2\\n', '-6\\n', '80']\n"
     ]
    }
   ],
   "source": [
    "#max\n",
    "#min\n",
    "f = open(\"numbers.txt\",\"r\")\n",
    "maxi = None\n",
    "mins = None\n",
    "f = f.readlines()\n",
    "#set max and min to the first number\n",
    "for line in f:\n",
    "    if maxi == None: \n",
    "        maxi = int(line)\n",
    "    else:\n",
    "        if int(line) > maxi:\n",
    "            maxi = int(line)\n",
    "for line in f:\n",
    "    if mins == None:\n",
    "        mins = int(line)\n",
    "    else:\n",
    "        if int(line) < mins:\n",
    "            mins = int(line)\n",
    "   \n",
    "\n",
    "   \n",
    "print(\"Maximum: \",maxi)\n",
    "print(\"Minimum: \",mins)\n",
    "\n",
    "\n",
    "#check if the current num is > or < max/min"
   ]
  },
  {
   "cell_type": "markdown",
   "id": "10b92b56",
   "metadata": {},
   "source": [
    "4) Create a new file with 10+ each number in numbers.txt"
   ]
  },
  {
   "cell_type": "code",
   "execution_count": 60,
   "id": "34dc6c62",
   "metadata": {},
   "outputs": [
    {
     "ename": "TypeError",
     "evalue": "can only concatenate list (not \"int\") to list",
     "output_type": "error",
     "traceback": [
      "\u001b[0;31m---------------------------------------------------------------------------\u001b[0m",
      "\u001b[0;31mTypeError\u001b[0m                                 Traceback (most recent call last)",
      "\u001b[0;32m/var/folders/j3/1nkjngl51fn2qm46cls3nmxr0000gn/T/ipykernel_47266/1931823706.py\u001b[0m in \u001b[0;36m<module>\u001b[0;34m\u001b[0m\n\u001b[1;32m      4\u001b[0m \u001b[0;32mfor\u001b[0m \u001b[0ml\u001b[0m \u001b[0;32min\u001b[0m \u001b[0mfile\u001b[0m\u001b[0;34m:\u001b[0m\u001b[0;34m\u001b[0m\u001b[0;34m\u001b[0m\u001b[0m\n\u001b[1;32m      5\u001b[0m \u001b[0;34m\u001b[0m\u001b[0m\n\u001b[0;32m----> 6\u001b[0;31m     \u001b[0moutfile\u001b[0m\u001b[0;34m.\u001b[0m\u001b[0mwrite\u001b[0m\u001b[0;34m(\u001b[0m\u001b[0mfile\u001b[0m \u001b[0;34m+\u001b[0m \u001b[0;36m10\u001b[0m\u001b[0;34m)\u001b[0m\u001b[0;34m\u001b[0m\u001b[0;34m\u001b[0m\u001b[0m\n\u001b[0m\u001b[1;32m      7\u001b[0m \u001b[0;34m\u001b[0m\u001b[0m\n\u001b[1;32m      8\u001b[0m \u001b[0;34m\u001b[0m\u001b[0m\n",
      "\u001b[0;31mTypeError\u001b[0m: can only concatenate list (not \"int\") to list"
     ]
    }
   ],
   "source": [
    "file = open(\"numbers.txt\",\"r\")\n",
    "outfile = open(\"difnumbers.txt\", \"w\")\n",
    "file = file.readlines()\n",
    "for l in file:\n",
    "\n",
    "    outfile.write()\n",
    "\n",
    "\n",
    "file.close()\n",
    "outfile.close()"
   ]
  },
  {
   "cell_type": "markdown",
   "id": "c06d520a",
   "metadata": {},
   "source": [
    "5) Create a new file with the square of each number in numbers.txt, with no duplicate numbers."
   ]
  },
  {
   "cell_type": "code",
   "execution_count": null,
   "id": "dff82c4b",
   "metadata": {},
   "outputs": [],
   "source": []
  }
 ],
 "metadata": {
  "kernelspec": {
   "display_name": "Python 3 (ipykernel)",
   "language": "python",
   "name": "python3"
  },
  "language_info": {
   "codemirror_mode": {
    "name": "ipython",
    "version": 3
   },
   "file_extension": ".py",
   "mimetype": "text/x-python",
   "name": "python",
   "nbconvert_exporter": "python",
   "pygments_lexer": "ipython3",
   "version": "3.9.7"
  }
 },
 "nbformat": 4,
 "nbformat_minor": 5
}
