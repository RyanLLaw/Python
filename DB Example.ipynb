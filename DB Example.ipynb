{
 "cells": [
  {
   "cell_type": "markdown",
   "id": "74758213",
   "metadata": {},
   "source": [
    "# Creates a sample SQLite DB \n",
    "## SQL Statements from sqltutorial.org"
   ]
  },
  {
   "cell_type": "code",
   "execution_count": 2,
   "id": "a811fa5c",
   "metadata": {},
   "outputs": [],
   "source": [
    "# Parses a File into SQL Statements in a List\n",
    "def filetosql(filename):\n",
    "    sql = open(filename,\"r\")\n",
    "    lines = sql.readlines()\n",
    "    \n",
    "    statements = []\n",
    "    \n",
    "    # we use state to add up the lines in a statement\n",
    "    state = \"\"\n",
    "    for l in lines:\n",
    "        \n",
    "        # add the line to the line before after stripping away whitespace and newline\n",
    "        state += l.strip()\n",
    "        \n",
    "        if \";\" in l: # If this is the end of a statement\n",
    "            statements.append(state) # add the lines to the list\n",
    "            state = \"\" # reset and prep for new statement\n",
    "\n",
    "    return statements"
   ]
  },
  {
   "cell_type": "markdown",
   "id": "594df101",
   "metadata": {},
   "source": [
    "# Import the library and create the connection\n",
    "## For centralized databases this would look very different, we'd need a username and password, and a web connection."
   ]
  },
  {
   "cell_type": "code",
   "execution_count": 3,
   "id": "7e074a14",
   "metadata": {},
   "outputs": [],
   "source": [
    "# Import sqlite and connect to the database\n",
    "\n",
    "import sqlite3\n",
    "con = sqlite3.connect('example.db')"
   ]
  },
  {
   "cell_type": "markdown",
   "id": "8f2fee2a",
   "metadata": {},
   "source": [
    "# Create/Insert Statements (only run this once)"
   ]
  },
  {
   "cell_type": "code",
   "execution_count": 4,
   "id": "5845cd01",
   "metadata": {},
   "outputs": [
    {
     "ename": "OperationalError",
     "evalue": "table regions already exists",
     "output_type": "error",
     "traceback": [
      "\u001b[1;31m---------------------------------------------------------------------------\u001b[0m",
      "\u001b[1;31mOperationalError\u001b[0m                          Traceback (most recent call last)",
      "\u001b[1;32m<ipython-input-4-7a1a9949e7c4>\u001b[0m in \u001b[0;36m<module>\u001b[1;34m\u001b[0m\n\u001b[0;32m      5\u001b[0m \u001b[1;31m# Create Table Statements\u001b[0m\u001b[1;33m\u001b[0m\u001b[1;33m\u001b[0m\u001b[1;33m\u001b[0m\u001b[0m\n\u001b[0;32m      6\u001b[0m \u001b[1;32mfor\u001b[0m \u001b[0ms\u001b[0m \u001b[1;32min\u001b[0m \u001b[0mfiletosql\u001b[0m\u001b[1;33m(\u001b[0m\u001b[1;34m\"sqlite.txt\"\u001b[0m\u001b[1;33m)\u001b[0m\u001b[1;33m:\u001b[0m\u001b[1;33m\u001b[0m\u001b[1;33m\u001b[0m\u001b[0m\n\u001b[1;32m----> 7\u001b[1;33m     \u001b[0mcur\u001b[0m\u001b[1;33m.\u001b[0m\u001b[0mexecute\u001b[0m\u001b[1;33m(\u001b[0m\u001b[0ms\u001b[0m\u001b[1;33m)\u001b[0m\u001b[1;33m\u001b[0m\u001b[1;33m\u001b[0m\u001b[0m\n\u001b[0m\u001b[0;32m      8\u001b[0m \u001b[1;33m\u001b[0m\u001b[0m\n\u001b[0;32m      9\u001b[0m \u001b[1;31m# Insert Statements\u001b[0m\u001b[1;33m\u001b[0m\u001b[1;33m\u001b[0m\u001b[1;33m\u001b[0m\u001b[0m\n",
      "\u001b[1;31mOperationalError\u001b[0m: table regions already exists"
     ]
    }
   ],
   "source": [
    "## Creating cursor object and namimg it as cur\n",
    "cur = con.cursor()\n",
    "# For each statement, execute it\n",
    "\n",
    "# Create Table Statements\n",
    "for s in filetosql(\"sqlite.txt\"):\n",
    "    cur.execute(s)\n",
    "    \n",
    "# Insert Statements\n",
    "for s in filetosql(\"sqlite-data.txt\"):\n",
    "    cur.execute(s)\n",
    "\n",
    "# Commit to DB, only needed if we change anything\n",
    "con.commit()\n",
    "\n",
    "# Close the DB connection\n",
    "con.close()"
   ]
  },
  {
   "cell_type": "markdown",
   "id": "f833aeda",
   "metadata": {},
   "source": [
    "# Sample of a select statement"
   ]
  },
  {
   "cell_type": "code",
   "execution_count": 10,
   "id": "aae52f96",
   "metadata": {},
   "outputs": [
    {
     "name": "stdout",
     "output_type": "stream",
     "text": [
      "[('Argentina', 'Americas'), ('Australia', 'Asia'), ('Belgium', 'Europe'), ('Brazil', 'Americas'), ('Canada', 'Americas'), ('Switzerland', 'Europe'), ('China', 'Asia'), ('Germany', 'Europe'), ('Denmark', 'Europe'), ('Egypt', 'Middle East and Africa'), ('France', 'Europe'), ('HongKong', 'Asia'), ('Israel', 'Middle East and Africa'), ('India', 'Asia'), ('Italy', 'Europe'), ('Japan', 'Asia'), ('Kuwait', 'Middle East and Africa'), ('Mexico', 'Americas'), ('Nigeria', 'Middle East and Africa'), ('Netherlands', 'Europe'), ('Singapore', 'Asia'), ('United Kingdom', 'Europe'), ('United States of America', 'Americas'), ('Zambia', 'Middle East and Africa'), ('Zimbabwe', 'Middle East and Africa')]\n",
      "Country: Argentina  Region: Americas\n",
      "Country: Australia  Region: Asia\n",
      "Country: Belgium  Region: Europe\n",
      "Country: Brazil  Region: Americas\n",
      "Country: Canada  Region: Americas\n",
      "Country: Switzerland  Region: Europe\n",
      "Country: China  Region: Asia\n",
      "Country: Germany  Region: Europe\n",
      "Country: Denmark  Region: Europe\n",
      "Country: Egypt  Region: Middle East and Africa\n",
      "Country: France  Region: Europe\n",
      "Country: HongKong  Region: Asia\n",
      "Country: Israel  Region: Middle East and Africa\n",
      "Country: India  Region: Asia\n",
      "Country: Italy  Region: Europe\n",
      "Country: Japan  Region: Asia\n",
      "Country: Kuwait  Region: Middle East and Africa\n",
      "Country: Mexico  Region: Americas\n",
      "Country: Nigeria  Region: Middle East and Africa\n",
      "Country: Netherlands  Region: Europe\n",
      "Country: Singapore  Region: Asia\n",
      "Country: United Kingdom  Region: Europe\n",
      "Country: United States of America  Region: Americas\n",
      "Country: Zambia  Region: Middle East and Africa\n",
      "Country: Zimbabwe  Region: Middle East and Africa\n"
     ]
    }
   ],
   "source": [
    "con = sqlite3.connect('example.db')\n",
    "\n",
    "# Creating cursor object and namimg it as cur\n",
    "cur = con.cursor()\n",
    "\n",
    "\n",
    "s = \"SELECT country_name, region_name FROM regions, countries WHERE regions.region_id = countries.region_id;\"\n",
    "cur.execute(s)\n",
    "\n",
    "output = cur.fetchall()\n",
    "\n",
    "print(output)\n",
    "\n",
    "#print(\"Country Name, Region Name\\n\")\n",
    "for o in output:\n",
    "    print(\"Country:\",o[0],\" Region:\",o[1])\n",
    "\n",
    "# Close the DB connection\n",
    "con.close()"
   ]
  },
  {
   "cell_type": "markdown",
   "id": "2ecb30bf",
   "metadata": {},
   "source": [
    "# Example of an insert statement"
   ]
  },
  {
   "cell_type": "code",
   "execution_count": 11,
   "id": "edacc584",
   "metadata": {},
   "outputs": [
    {
     "name": "stdout",
     "output_type": "stream",
     "text": [
      "[('AR', 'Argentina', 2), ('AU', 'Australia', 3), ('BE', 'Belgium', 1), ('BR', 'Brazil', 2), ('CA', 'Canada', 2), ('CH', 'Switzerland', 1), ('CN', 'China', 3), ('DE', 'Germany', 1), ('DK', 'Denmark', 1), ('EG', 'Egypt', 4), ('FR', 'France', 1), ('HK', 'HongKong', 3), ('IL', 'Israel', 4), ('IN', 'India', 3), ('IT', 'Italy', 1), ('JP', 'Japan', 3), ('KW', 'Kuwait', 4), ('MX', 'Mexico', 2), ('NG', 'Nigeria', 4), ('NL', 'Netherlands', 1), ('SG', 'Singapore', 3), ('UK', 'United Kingdom', 1), ('US', 'United States of America', 2), ('ZM', 'Zambia', 4), ('ZW', 'Zimbabwe', 4), ('PK', 'Pakistan', 3)]\n"
     ]
    }
   ],
   "source": [
    "con = sqlite3.connect('example.db')\n",
    "\n",
    "# Creating cursor object and namimg it as cur\n",
    "cur = con.cursor()\n",
    "\n",
    "\n",
    "i = \"INSERT INTO countries(country_id,country_name,region_id) VALUES ('PK','Pakistan',3);\"\n",
    "cur.execute(i)\n",
    "\n",
    "s = \"SELECT * FROM countries;\"\n",
    "cur.execute(s)\n",
    "\n",
    "output = cur.fetchall()\n",
    "\n",
    "print(output)\n",
    "\n",
    "# Close the DB connection\n",
    "con.close()"
   ]
  },
  {
   "cell_type": "code",
   "execution_count": null,
   "id": "df237ec2",
   "metadata": {},
   "outputs": [],
   "source": []
  }
 ],
 "metadata": {
  "kernelspec": {
   "display_name": "Python 3",
   "language": "python",
   "name": "python3"
  },
  "language_info": {
   "codemirror_mode": {
    "name": "ipython",
    "version": 3
   },
   "file_extension": ".py",
   "mimetype": "text/x-python",
   "name": "python",
   "nbconvert_exporter": "python",
   "pygments_lexer": "ipython3",
   "version": "3.8.8"
  }
 },
 "nbformat": 4,
 "nbformat_minor": 5
}
