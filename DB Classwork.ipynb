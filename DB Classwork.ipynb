{
 "cells": [
  {
   "cell_type": "code",
   "execution_count": 9,
   "id": "8c37f924",
   "metadata": {},
   "outputs": [],
   "source": [
    "# Be sure to run this first!\n",
    "import sqlite3"
   ]
  },
  {
   "cell_type": "markdown",
   "id": "5e32117d",
   "metadata": {},
   "source": [
    "1) Add South Korea to the 'countries' table. The country_id should be SK, and the region_id will be 3 (Asia)."
   ]
  },
  {
   "cell_type": "code",
   "execution_count": 4,
   "id": "8e5f02d2",
   "metadata": {},
   "outputs": [],
   "source": [
    "con = sqlite3.connect('example.db')\n",
    "\n",
    "# Creating cursor object and namimg it as cur\n",
    "cur = con.cursor()\n",
    "\n",
    "\n",
    "\n",
    "\n",
    "# Close the DB connection\n",
    "con.close()"
   ]
  },
  {
   "cell_type": "code",
   "execution_count": 5,
   "id": "3fa549f3",
   "metadata": {},
   "outputs": [
    {
     "name": "stdout",
     "output_type": "stream",
     "text": [
      "[('AR', 'Argentina', 2), ('AU', 'Australia', 3), ('BE', 'Belgium', 1), ('BR', 'Brazil', 2), ('CA', 'Canada', 2), ('CH', 'Switzerland', 1), ('CN', 'China', 3), ('DE', 'Germany', 1), ('DK', 'Denmark', 1), ('EG', 'Egypt', 4), ('FR', 'France', 1), ('HK', 'HongKong', 3), ('IL', 'Israel', 4), ('IN', 'India', 3), ('IT', 'Italy', 1), ('JP', 'Japan', 3), ('KW', 'Kuwait', 4), ('MX', 'Mexico', 2), ('NG', 'Nigeria', 4), ('NL', 'Netherlands', 1), ('SG', 'Singapore', 3), ('UK', 'United Kingdom', 1), ('US', 'United States of America', 2), ('ZM', 'Zambia', 4), ('ZW', 'Zimbabwe', 4)]\n"
     ]
    }
   ],
   "source": [
    "# This will display the countries table.\n",
    "con = sqlite3.connect('example.db')\n",
    "\n",
    "# Creating cursor object and namimg it as cur\n",
    "cur = con.cursor()\n",
    "\n",
    "\n",
    "s = \"SELECT * FROM countries;\"\n",
    "cur.execute(s)\n",
    "\n",
    "output = cur.fetchall()\n",
    "\n",
    "print(output)\n",
    "\n",
    "# Close the DB connection\n",
    "con.close()"
   ]
  },
  {
   "cell_type": "markdown",
   "id": "d097d402",
   "metadata": {},
   "source": [
    "2) Select all jobs with a minimum salary that the user inputs."
   ]
  },
  {
   "cell_type": "code",
   "execution_count": null,
   "id": "97d57e61",
   "metadata": {},
   "outputs": [],
   "source": [
    "con = sqlite3.connect('example.db')\n",
    "\n",
    "# Creating cursor object and namimg it as cur\n",
    "cur = con.cursor()\n",
    "\n",
    "#======================================================\n",
    "s = \"\" # Write the select statement here!\n",
    "#======================================================\n",
    "\n",
    "cur.execute(s)\n",
    "\n",
    "output = cur.fetchall()\n",
    "\n",
    "print(output)\n",
    "\n",
    "# Close the DB connection\n",
    "con.close()"
   ]
  },
  {
   "cell_type": "markdown",
   "id": "22945036",
   "metadata": {},
   "source": [
    "3) Get all employee names, emails, and phone numbers if they have one of those jobs with a minimum salary of 5,000."
   ]
  },
  {
   "cell_type": "code",
   "execution_count": 1,
   "id": "2bb476eb",
   "metadata": {},
   "outputs": [],
   "source": [
    "# Hint, join the 'employees' table with 'jobs' on the 'job_id' column.\n",
    "\n",
    "\n",
    "con = sqlite3.connect('example.db')\n",
    "\n",
    "# Creating cursor object and namimg it as cur\n",
    "cur = con.cursor()\n",
    "\n",
    "#======================================================\n",
    "s = \"\" # Write the select statement here!\n",
    "#======================================================\n",
    "\n",
    "cur.execute(s)\n",
    "\n",
    "output = cur.fetchall()\n",
    "\n",
    "print(output)\n",
    "\n",
    "# Close the DB connection\n",
    "con.close()"
   ]
  },
  {
   "cell_type": "markdown",
   "id": "bb34422a",
   "metadata": {},
   "source": [
    "4) Update the 'regions' table. Let's change region 4 to Middle East, and add a fifth region for Africa so two different geographic regions are no longer combined into one."
   ]
  },
  {
   "cell_type": "code",
   "execution_count": null,
   "id": "375a0f9d",
   "metadata": {},
   "outputs": [],
   "source": [
    "con = sqlite3.connect('example.db')\n",
    "\n",
    "# Creating cursor object and namimg it as cur\n",
    "cur = con.cursor()\n",
    "\n",
    "\n",
    "\n",
    "\n",
    "# Close the DB connection\n",
    "con.close()"
   ]
  },
  {
   "cell_type": "code",
   "execution_count": 8,
   "id": "1f9c92b8",
   "metadata": {},
   "outputs": [
    {
     "name": "stdout",
     "output_type": "stream",
     "text": [
      "[(1, 'Europe'), (2, 'Americas'), (3, 'Asia'), (4, 'Middle East and Africa')]\n"
     ]
    }
   ],
   "source": [
    "# This will display the regions table.\n",
    "con = sqlite3.connect('example.db')\n",
    "\n",
    "# Creating cursor object and namimg it as cur\n",
    "cur = con.cursor()\n",
    "\n",
    "\n",
    "s = \"SELECT * FROM regions;\"\n",
    "cur.execute(s)\n",
    "\n",
    "output = cur.fetchall()\n",
    "\n",
    "print(output)\n",
    "\n",
    "# Close the DB connection\n",
    "con.close()"
   ]
  },
  {
   "cell_type": "markdown",
   "id": "7b0de95f",
   "metadata": {},
   "source": [
    "5) Have the user enter a table name. Display all data in that table."
   ]
  },
  {
   "cell_type": "code",
   "execution_count": null,
   "id": "8a84f82c",
   "metadata": {},
   "outputs": [],
   "source": []
  }
 ],
 "metadata": {
  "kernelspec": {
   "display_name": "Python 3",
   "language": "python",
   "name": "python3"
  },
  "language_info": {
   "codemirror_mode": {
    "name": "ipython",
    "version": 3
   },
   "file_extension": ".py",
   "mimetype": "text/x-python",
   "name": "python",
   "nbconvert_exporter": "python",
   "pygments_lexer": "ipython3",
   "version": "3.8.8"
  }
 },
 "nbformat": 4,
 "nbformat_minor": 5
}
