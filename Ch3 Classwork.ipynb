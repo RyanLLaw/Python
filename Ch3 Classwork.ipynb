{
 "cells": [
  {
   "cell_type": "markdown",
   "id": "633a130f",
   "metadata": {},
   "source": [
    "1) Prompt the user to enter an integer. If the input is greater than 0, print 'positive'. If less than 0, print 'negative'. If the number is equal to 0, simply print 'zero'."
   ]
  },
  {
   "cell_type": "code",
   "execution_count": 1,
   "id": "36c2e646",
   "metadata": {},
   "outputs": [
    {
     "name": "stdout",
     "output_type": "stream",
     "text": [
      "Enter an integer: 2\n",
      "positive\n"
     ]
    }
   ],
   "source": [
    "integer = int(input(\"Enter an integer: \"))\n",
    "if integer>0:\n",
    "    print(\"positive\")\n",
    "elif integer<0:\n",
    "    print(\"negative\")\n",
    "else:\n",
    "    print(\"zero\")"
   ]
  },
  {
   "cell_type": "markdown",
   "id": "4f8905dd",
   "metadata": {},
   "source": [
    "2) Expand #1 to also print if the number entered was even or odd."
   ]
  },
  {
   "cell_type": "code",
   "execution_count": 17,
   "id": "318f3c5f",
   "metadata": {},
   "outputs": [
    {
     "name": "stdout",
     "output_type": "stream",
     "text": [
      "odd\n"
     ]
    }
   ],
   "source": [
    "# Hint, use the remainder (%) function.\n",
    "if integer % 2 == 0:\n",
    "    print(\"even\")\n",
    "else:\n",
    "    print(\"odd\")"
   ]
  },
  {
   "cell_type": "markdown",
   "id": "833ea404",
   "metadata": {},
   "source": [
    "3) Prompt the user for an integer. If the integer is greater than 500 or less than 100, return an error."
   ]
  },
  {
   "cell_type": "code",
   "execution_count": 1,
   "id": "47c4e667",
   "metadata": {
    "scrolled": true
   },
   "outputs": [
    {
     "name": "stdout",
     "output_type": "stream",
     "text": [
      "Enter an integer between 500 and 100: 233\n",
      "233\n"
     ]
    }
   ],
   "source": [
    "usrIn = int(input(\"Enter an integer between 500 and 100: \"))\n",
    "\n",
    "if 100 <= usrIn <= 500:\n",
    "    print(usrIn)\n",
    "else:\n",
    "    print(\"error: number outside of range\")\n"
   ]
  },
  {
   "cell_type": "markdown",
   "id": "64ce291a",
   "metadata": {},
   "source": [
    "4) Prompt the user for the number of items bought, and again for the total amount of the sale. If the number of items is greater than 30, give them a 10% discount. Otherwise, if the number of items is greater than 10, give them a 5% discount."
   ]
  },
  {
   "cell_type": "code",
   "execution_count": 1,
   "id": "b0ae5c2a",
   "metadata": {},
   "outputs": [
    {
     "name": "stdout",
     "output_type": "stream",
     "text": [
      "Enter the number if items bought: 15\n",
      "Enter the total amount of the sale: 30\n",
      "Your total is 28.5\n"
     ]
    }
   ],
   "source": [
    "items = int(input(\"Enter the number if items bought: \"))\n",
    "amount = float(input(\"Enter the total amount of the sale: \"))\n",
    "if 30 < items:\n",
    "    print(\"Your total is\",amount*.9)\n",
    "elif 10 < items and items < 30:\n",
    "    print(\"Your total is\",amount*.95)"
   ]
  },
  {
   "cell_type": "markdown",
   "id": "2a73ffc8",
   "metadata": {},
   "source": [
    "5) Prompt the user to input the number of pennies, nickels, dimes, and quarters. Calculate the dollar value of the total. If the dollar value is equal to one dollar, tell the user they have one dollar. Otherwise, tell the user if they have more or less than one dollar."
   ]
  },
  {
   "cell_type": "code",
   "execution_count": 4,
   "id": "7a162716",
   "metadata": {},
   "outputs": [
    {
     "name": "stdout",
     "output_type": "stream",
     "text": [
      "Enter the number of pennies you have: 99\n",
      "Enter the number of nickels you have: 0\n",
      "Enter the number of dimes you have: 0\n",
      "Enter the number of quarters you have: 0\n",
      "0.99 You have less than a dollar.\n"
     ]
    }
   ],
   "source": [
    "penny = float(input(\"Enter the number of pennies you have: \"))\n",
    "nickel = float(input(\"Enter the number of nickels you have: \"))\n",
    "dime = float(input(\"Enter the number of dimes you have: \"))\n",
    "quarter = float(input(\"Enter the number of quarters you have: \"))\n",
    "\n",
    "dollar = (penny* 0.01)+ (nickel* 0.05)+ (dime* 0.1)+ (quarter* 0.25)\n",
    "\n",
    "if dollar == 1:\n",
    "    print(dollar,\"You have exactly one dollar\")\n",
    "elif dollar < 1:\n",
    "    print(dollar,\"You have less than a dollar.\")\n",
    "elif dollar > 1:\n",
    "    print(dollar,\"You have more than a dollar.\")\n"
   ]
  },
  {
   "cell_type": "markdown",
   "id": "c98b42d1",
   "metadata": {},
   "source": [
    "6) Prompt the user to input their grade for a class (between 1 and 100). If the grade is less than 60, inform them they've failed. If the grade is greater or equal to 60, ask them if the class is Pass/Fail or Letter Grade. If the user inputs 'P' (for pass/fail), then print out their grade is passing. If they input 'L' (for letter grade, give them the value of A, B, C, or D."
   ]
  },
  {
   "cell_type": "code",
   "execution_count": 13,
   "id": "e836ee84",
   "metadata": {},
   "outputs": [
    {
     "name": "stdout",
     "output_type": "stream",
     "text": [
      "Enter grade between 1 and 100: 99\n",
      "Is the class Pass/Fail or a Letter Grade? Enter P for Pass/Fail, L for Letter Grade: P\n",
      "P\n"
     ]
    }
   ],
   "source": [
    "# Hint, use a nested if statement after checking if the grade is less than 60\n",
    "num = int(input(\"Enter grade between 1 and 100: \"))\n",
    "\n",
    "if num < 60:\n",
    "    print(\"F\")\n",
    "elif num >= 60:\n",
    "    s = input(\"Is the class Pass/Fail or a Letter Grade? Enter P for Pass/Fail, L for Letter Grade: \")\n",
    "    lettergrade = True\n",
    "\n",
    "if s == \"P\":\n",
    "    lettergrade = False\n",
    "    print(\"P\")\n",
    "elif lettergrade == True:\n",
    "    if 60 <= num < 70:\n",
    "        print(\"D\")\n",
    "    elif 70 <= num < 80:\n",
    "        print(\"C\")\n",
    "    elif 80 <= num < 90:\n",
    "        print(\"B\")\n",
    "    elif 90 <= num < 101:\n",
    "        print(\"A\")\n"
   ]
  },
  {
   "cell_type": "markdown",
   "id": "c3b2087d",
   "metadata": {},
   "source": [
    "7) If the temperature in Florida is less than 60, tell the user to wear a coat. If the user isn't in Florida, check if the temperature is less than 50, if so, tell the user to wear a coat. Finally, if it's raining, tell the user to bring an umbrella."
   ]
  },
  {
   "cell_type": "code",
   "execution_count": 12,
   "id": "f91cf525",
   "metadata": {},
   "outputs": [
    {
     "name": "stdout",
     "output_type": "stream",
     "text": [
      "Enter the current temperature outside:55\n",
      "What state are you in? : Florida\n",
      "Is it raining? Yes or No?Yes\n",
      "Wear a jacket\n",
      "Bring an umbrella\n"
     ]
    }
   ],
   "source": [
    "temp = int(input(\"Enter the current temperature outside:\"))\n",
    "state = str(input(\"What state are you in? : \"))\n",
    "raining = str(input(\"Is it raining? Yes or No: \"))\n",
    "\n",
    "if state == \"Florida\" and temp < 60:\n",
    "    print(\"Wear a jacket\")\n",
    "\n",
    "elif temp < 50:\n",
    "    print(\"Wear a jacket\")\n",
    "if raining == \"Yes\":\n",
    "    print(\"Bring an umbrella\")\n",
    "\n",
    "#No need to use the input for the booleans, feel free to change the variables raining = False florida = True"
   ]
  },
  {
   "cell_type": "code",
   "execution_count": null,
   "id": "5c5fb99c",
   "metadata": {},
   "outputs": [],
   "source": []
  }
 ],
 "metadata": {
  "kernelspec": {
   "display_name": "Python 3 (ipykernel)",
   "language": "python",
   "name": "python3"
  },
  "language_info": {
   "codemirror_mode": {
    "name": "ipython",
    "version": 3
   },
   "file_extension": ".py",
   "mimetype": "text/x-python",
   "name": "python",
   "nbconvert_exporter": "python",
   "pygments_lexer": "ipython3",
   "version": "3.9.7"
  }
 },
 "nbformat": 4,
 "nbformat_minor": 5
}
