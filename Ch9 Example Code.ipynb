{
 "cells": [
  {
   "cell_type": "code",
   "execution_count": 16,
   "id": "53a92d33",
   "metadata": {},
   "outputs": [
    {
     "name": "stdout",
     "output_type": "stream",
     "text": [
      "{1: 'one', 2: 'two'}\n",
      "dict_keys([1, 2])\n",
      "dict_values(['one', 'two'])\n",
      "True\n",
      "{1: 'one'}\n",
      "1 one\n",
      "one\n"
     ]
    }
   ],
   "source": [
    "dictionary = dict()\n",
    "\n",
    "# Example of how to add to a dictionary\n",
    "dictionary[1] = \"one\"\n",
    "# 1 is the key, 'one' is the value\n",
    "dictionary[2] = \"two\"\n",
    "\n",
    "print(dictionary)\n",
    "\n",
    "print(dictionary.keys())\n",
    "print(dictionary.values())\n",
    "\n",
    "# We can use the in keyword to check if a value is in keys or values\n",
    "print(2 in dictionary.keys())\n",
    "\n",
    "# Example of how to delete\n",
    "del dictionary[2]\n",
    "\n",
    "print(dictionary)\n",
    "\n",
    "# Example of iterating through a dictionary\n",
    "for key in dictionary:\n",
    "    val = dictionary[key]\n",
    "    print(key, val)\n",
    "    \n",
    "# Can use the get method as well\n",
    "print(dictionary.get(1))\n",
    "# This method is likely the better way as it cannot raise an error"
   ]
  },
  {
   "cell_type": "code",
   "execution_count": 18,
   "id": "99330b17",
   "metadata": {},
   "outputs": [
    {
     "name": "stdout",
     "output_type": "stream",
     "text": [
      "{1: 1, 2: 4, -2: 4, -3: 9, 5: 25}\n"
     ]
    }
   ],
   "source": [
    "nums = [1,2,-2,-3,5]\n",
    "# We can use comprehensions as well, with a slight difference. Notice how we use the : to denote the key and value\n",
    "squares = {item:item*item for item in nums}\n",
    "\n",
    "print(squares)\n",
    "# Note that 2 and -2 both point to the same value 4"
   ]
  },
  {
   "cell_type": "code",
   "execution_count": 1,
   "id": "06945efe",
   "metadata": {},
   "outputs": [
    {
     "name": "stdout",
     "output_type": "stream",
     "text": [
      "{'1', 1, 2, 3}\n",
      "True\n"
     ]
    }
   ],
   "source": [
    "s = set()\n",
    "# Unlike a list a set has no order and no duplicate values\n",
    "s.add(1)\n",
    "s.add(2)\n",
    "s.add(3)\n",
    "\n",
    "# We can see a second 1 is not added\n",
    "s.add(1)\n",
    "# Of course, since \"1\" is a string, it can be added\n",
    "s.add(\"1\")\n",
    "\n",
    "print(s)\n",
    "print(\"1\" in s)"
   ]
  },
  {
   "cell_type": "code",
   "execution_count": 26,
   "id": "ef6ac6c7",
   "metadata": {},
   "outputs": [
    {
     "name": "stdout",
     "output_type": "stream",
     "text": [
      "Intersection of {1, 2, 3} {3, 4} = {3}\n",
      "Union of {1, 2, 3} {3, 4} = {1, 2, 3, 4}\n",
      "Difference of {1, 2, 3} {3, 4} = {1, 2}\n",
      "Is {3, 4} a subset of {1, 2, 3, 4} ? True\n"
     ]
    }
   ],
   "source": [
    "s = set()\n",
    "s.add(1)\n",
    "s.add(2)\n",
    "s.add(3)\n",
    "\n",
    "s2 = set()\n",
    "s2.add(3)\n",
    "s2.add(4)\n",
    "\n",
    "# Intersection, only the items in both sets\n",
    "s3 = s & s2\n",
    "\n",
    "# Union, all items from either set\n",
    "s4 = s | s2\n",
    "\n",
    "# Difference, items in s that are not in s2\n",
    "s5 = s - s2\n",
    "\n",
    "print(\"Intersection of\",s,s2,\"=\",s3)\n",
    "\n",
    "print(\"Union of\",s,s2,\"=\",s4)\n",
    "\n",
    "print(\"Difference of\",s,s2,\"=\",s5)\n",
    "\n",
    "s.add(4)\n",
    "\n",
    "print(\"Is\",s2,\"a subset of\",s,\"?\",s >= s2)\n",
    "# So, s is a superset of s2, while s2 is a subset of s"
   ]
  },
  {
   "cell_type": "code",
   "execution_count": 30,
   "id": "9734a1f6",
   "metadata": {},
   "outputs": [
    {
     "name": "stdout",
     "output_type": "stream",
     "text": [
      "{1, 2, 4, 5}\n",
      "[1, 2, 4, 5, 6]\n"
     ]
    }
   ],
   "source": [
    "# Since lists and sets are both sequences, we can easily convert from one to the other\n",
    "no_duplicates = set([1,2,1,2,4,5])\n",
    "print(no_duplicates)\n",
    "\n",
    "l = list(no_duplicates)\n",
    "l.append(6)\n",
    "print(l)\n",
    "\n",
    "# [] denotes a list, {} can denote either a dictionary or set based on the context (key/value pairs for a dict)"
   ]
  },
  {
   "cell_type": "code",
   "execution_count": null,
   "id": "58369554",
   "metadata": {},
   "outputs": [],
   "source": []
  }
 ],
 "metadata": {
  "kernelspec": {
   "display_name": "Python 3 (ipykernel)",
   "language": "python",
   "name": "python3"
  },
  "language_info": {
   "codemirror_mode": {
    "name": "ipython",
    "version": 3
   },
   "file_extension": ".py",
   "mimetype": "text/x-python",
   "name": "python",
   "nbconvert_exporter": "python",
   "pygments_lexer": "ipython3",
   "version": "3.9.7"
  }
 },
 "nbformat": 4,
 "nbformat_minor": 5
}
