{
 "cells": [
  {
   "cell_type": "markdown",
   "id": "c217e3a3",
   "metadata": {},
   "source": [
    "# Example Code:"
   ]
  },
  {
   "cell_type": "code",
   "execution_count": 1,
   "id": "7aaebf9b",
   "metadata": {},
   "outputs": [
    {
     "name": "stdout",
     "output_type": "stream",
     "text": [
      "Enter a number: 7\n",
      "You entered: 7\n",
      "Your number + 10 is: 17.0\n"
     ]
    }
   ],
   "source": [
    "# Example of using input\n",
    "\n",
    "usrIn = input(\"Enter a number: \")\n",
    "\n",
    "print(\"You entered:\",usrIn)\n",
    "\n",
    "# Need to convert usrIn (a string) into a numeric variable before addition\n",
    "output = float(usrIn) + 10\n",
    "\n",
    "print(\"Your number + 10 is:\", output)"
   ]
  },
  {
   "cell_type": "code",
   "execution_count": 2,
   "id": "fa364709",
   "metadata": {},
   "outputs": [
    {
     "name": "stdout",
     "output_type": "stream",
     "text": [
      "3 3.0 3.0\n",
      "3 3.0 3.0\n"
     ]
    }
   ],
   "source": [
    "# Type Conversion\n",
    "\n",
    "i = 3\n",
    "f = float(i) # 3 -> 3.0\n",
    "s = str(f) # 3.0 -> \"3.0\"\n",
    "i = int(f) # 3.0 -> 3\n",
    "\n",
    "print(i,f,s)\n",
    "# the values of i and f are automatically converted to strings\n",
    "\n",
    "# same output using string concatination\n",
    "print(str(i) + \" \" + str(f) + \" \" + s)"
   ]
  },
  {
   "cell_type": "code",
   "execution_count": 3,
   "id": "09587258",
   "metadata": {},
   "outputs": [
    {
     "name": "stdout",
     "output_type": "stream",
     "text": [
      "Output is:  3\n",
      "Output is: 3\n",
      "Output is: 15\n"
     ]
    }
   ],
   "source": [
    "# Print Examples\n",
    "\n",
    "print(\"Output is: \", i) \n",
    "# When using the print command with multiple arguments, numeric values will be converted to a string automatically\n",
    "print(\"Output is: \" + str(i)) \n",
    "# When concatinating a string, we need to use the str command on a float or int\n",
    "\n",
    "string = \"15\"\n",
    "\n",
    "print(\"Output is: \" + string)\n",
    "# No conversion need in this case since \"15\" is already a string"
   ]
  },
  {
   "cell_type": "markdown",
   "id": "fd42e204",
   "metadata": {},
   "source": [
    "# Problems:"
   ]
  },
  {
   "cell_type": "markdown",
   "id": "013956ad",
   "metadata": {},
   "source": [
    "1) Prompt the user to input two variables, the number of miles driven, and the number of gallons of gas used. Divide miles by gallons and output the MPG to the user."
   ]
  },
  {
   "cell_type": "code",
   "execution_count": 4,
   "id": "a1644ee5",
   "metadata": {
    "scrolled": true
   },
   "outputs": [
    {
     "name": "stdout",
     "output_type": "stream",
     "text": [
      "Enter miles driven: 24\n",
      "Enter gallons used: 6\n",
      "MPG is: 4.0\n"
     ]
    }
   ],
   "source": [
    "# Remember the inputed value will be a string. Use the float or int function to convert it to a numeric.\n",
    "usrIn = float(input(\"Enter miles driven: \"))\n",
    "gal = float(input(\"Enter gallons used: \"))\n",
    "mpg = usrIn / gal\n",
    "print(\"MPG is:\", mpg)"
   ]
  },
  {
   "cell_type": "markdown",
   "id": "25e2e164",
   "metadata": {},
   "source": [
    "2) Calculate suggested tip percentages for the total cost a meal. Prompt the user to enter the total cost then display 15%, 20%, 25% and 30% of the meal price."
   ]
  },
  {
   "cell_type": "code",
   "execution_count": 5,
   "id": "a5872e2e",
   "metadata": {},
   "outputs": [
    {
     "name": "stdout",
     "output_type": "stream",
     "text": [
      "Enter total cost: 6.00\n",
      "15% 0.8999999999999999\n",
      "20% 1.2000000000000002\n",
      "25% 1.5\n",
      "30% 1.7999999999999998\n"
     ]
    }
   ],
   "source": [
    "usrIn = float(input(\"Enter total cost: \"))\n",
    "fiftn = usrIn * .15\n",
    "twnt = usrIn * .2\n",
    "twnfi = usrIn * .25\n",
    "thir = usrIn * .30\n",
    "print(\"15%\", fiftn)\n",
    "print(\"20%\", twnt)\n",
    "print(\"25%\", twnfi)\n",
    "print(\"30%\", thir)"
   ]
  },
  {
   "cell_type": "markdown",
   "id": "9a78ed73",
   "metadata": {},
   "source": [
    "3) Calculate the total distance a car will drive. Prompt the user for the speed and hours driven and output the total distance. Assume speed will be imputted in miles per hour."
   ]
  },
  {
   "cell_type": "code",
   "execution_count": 6,
   "id": "e5f90621",
   "metadata": {},
   "outputs": [
    {
     "name": "stdout",
     "output_type": "stream",
     "text": [
      "Enter speed: 65\n",
      "Enter hours: 2\n",
      "Distance is: 130.0\n"
     ]
    }
   ],
   "source": [
    "# Distance = Speed * Hours\n",
    "spd = float(input(\"Enter speed: \"))\n",
    "hrs = float(input(\"Enter hours: \"))\n",
    "dist = spd * hrs\n",
    "print(\"Distance is:\", dist)"
   ]
  },
  {
   "cell_type": "markdown",
   "id": "15f29a40",
   "metadata": {},
   "source": [
    "4) A user has been approved for a loan. Enter the desired loan amount, and the number of payments. Add 5% to the loan's value, then divide it by the number of payments."
   ]
  },
  {
   "cell_type": "code",
   "execution_count": 11,
   "id": "6509d647",
   "metadata": {
    "scrolled": true
   },
   "outputs": [
    {
     "name": "stdout",
     "output_type": "stream",
     "text": [
      "Enter loan amount: 3000\n",
      "Enter number of payments: 3\n",
      "Payment will be: 1050.0\n"
     ]
    }
   ],
   "source": [
    "loan = float(input(\"Enter loan amount: \"))\n",
    "pmt = float(input(\"Enter number of payments: \"))\n",
    "price = (loan * 1.05) / pmt\n",
    "print(\"Payment will be:\", price)"
   ]
  },
  {
   "cell_type": "markdown",
   "id": "eff88106",
   "metadata": {},
   "source": [
    "5) Enter the radius of a circle. Calculate the circumference and area and output both to the user."
   ]
  },
  {
   "cell_type": "code",
   "execution_count": 8,
   "id": "02b136f8",
   "metadata": {},
   "outputs": [
    {
     "name": "stdout",
     "output_type": "stream",
     "text": [
      "Enter radius: 9\n",
      "C: 56.54862\n",
      "A: 254.46878999999998\n"
     ]
    }
   ],
   "source": [
    "pi = 3.14159\n",
    "\n",
    "# Circumference = radius * 2 * pi\n",
    "\n",
    "# Area = radius * radius * pi\n",
    "rad = float(input(\"Enter radius: \"))\n",
    "c = rad * 2 * pi\n",
    "a = rad * rad * pi\n",
    "print(\"C:\", c)\n",
    "print(\"A:\", a)"
   ]
  },
  {
   "cell_type": "markdown",
   "id": "d517b980",
   "metadata": {},
   "source": [
    "6) A cookie recipe calls for: 2 cups of sugar, 1 cup of butter, and 5 cups of flour per dozen cookies. Ask the user to input the number of cookies, then tell them how much they'll need of each ingredient."
   ]
  },
  {
   "cell_type": "code",
   "execution_count": 12,
   "id": "dc803f2c",
   "metadata": {},
   "outputs": [
    {
     "name": "stdout",
     "output_type": "stream",
     "text": [
      "Enter the number of cookies you wish to bake: 12\n",
      "You'll need \n",
      "2.0 cups of sugar\n",
      "1.0 cups of butter\n",
      "5.0 cups of flour\n"
     ]
    }
   ],
   "source": [
    "cook = float(input(\"Enter the number of cookies you wish to bake: \"))\n",
    "sugar = cook * 2/12\n",
    "print(\"You'll need \")\n",
    "print(sugar,\"cups of sugar\")\n",
    "but = cook * 1/12\n",
    "print(but,\"cups of butter\")\n",
    "flour = cook * 5/12\n",
    "print(flour,\"cups of flour\")"
   ]
  },
  {
   "cell_type": "markdown",
   "id": "7d45be1b",
   "metadata": {},
   "source": [
    "7) A customer is buying three items. Prompt the user for the sales price of each one, and add a ten percent sales tax. Output the total amount due to the user."
   ]
  },
  {
   "cell_type": "code",
   "execution_count": 10,
   "id": "a2057429",
   "metadata": {},
   "outputs": [
    {
     "name": "stdout",
     "output_type": "stream",
     "text": [
      "Please enter the first item: 17\n",
      "Please enter the second item: 23\n",
      "Please enter the third item: 25\n",
      "Total sale: 71.5\n"
     ]
    }
   ],
   "source": [
    "# This variable will hold the total amount of the sale\n",
    "sale = 0\n",
    "\n",
    "itemOne = float(input(\"Please enter the first item: \"))\n",
    "sale = sale + itemOne * 1.1\n",
    "\n",
    "itemTwo = float(input(\"Please enter the second item: \"))\n",
    "sale = sale + itemTwo * 1.1\n",
    "\n",
    "itemThree = float(input(\"Please enter the third item: \"))\n",
    "sale = sale + itemThree * 1.1\n",
    "\n",
    "print(\"Total sale:\", sale)\n",
    "# Add the code to input items 2,3\n",
    "\n"
   ]
  },
  {
   "cell_type": "code",
   "execution_count": null,
   "id": "3596fa83",
   "metadata": {},
   "outputs": [],
   "source": []
  }
 ],
 "metadata": {
  "kernelspec": {
   "display_name": "Python 3 (ipykernel)",
   "language": "python",
   "name": "python3"
  },
  "language_info": {
   "codemirror_mode": {
    "name": "ipython",
    "version": 3
   },
   "file_extension": ".py",
   "mimetype": "text/x-python",
   "name": "python",
   "nbconvert_exporter": "python",
   "pygments_lexer": "ipython3",
   "version": "3.9.7"
  }
 },
 "nbformat": 4,
 "nbformat_minor": 5
}
