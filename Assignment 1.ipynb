{
 "cells": [
  {
   "cell_type": "markdown",
   "metadata": {},
   "source": [
    "1) Print the numbers 1-10 using a loop."
   ]
  },
  {
   "cell_type": "code",
   "execution_count": 4,
   "metadata": {},
   "outputs": [
    {
     "name": "stdout",
     "output_type": "stream",
     "text": [
      "1\n",
      "2\n",
      "3\n",
      "4\n",
      "5\n",
      "6\n",
      "7\n",
      "8\n",
      "9\n",
      "10\n"
     ]
    }
   ],
   "source": [
    "num= 0\n",
    "for i in range(1,11):\n",
    "    num += 1\n",
    "    print(i)\n",
    "    \n"
   ]
  },
  {
   "cell_type": "markdown",
   "metadata": {},
   "source": [
    "2) Create an input verification loop that will only accept one of 1,3,7,9."
   ]
  },
  {
   "cell_type": "code",
   "execution_count": 5,
   "metadata": {},
   "outputs": [
    {
     "name": "stdout",
     "output_type": "stream",
     "text": [
      "Enter 1,3,7 or 9: 3\n",
      "3 is a valid number!\n"
     ]
    }
   ],
   "source": [
    "valid = False\n",
    "while not valid:\n",
    "    valid = True\n",
    "    nums = input(\"Enter 1,3,7 or 9: \")\n",
    "    if nums == '1' or nums == '3' or nums == '7' or nums == '9':\n",
    "        print(nums, \"is a valid number!\")\n",
    "    elif nums != '1' or nums != '3' or nums != '7' or nums != '9':\n",
    "        print(\"Wrong number\")\n"
   ]
  },
  {
   "cell_type": "markdown",
   "metadata": {},
   "source": [
    "3) Loop through all the items in prices, calculate the total cost of the purchase with tax added."
   ]
  },
  {
   "cell_type": "code",
   "execution_count": 3,
   "metadata": {},
   "outputs": [
    {
     "name": "stdout",
     "output_type": "stream",
     "text": [
      "$ 525.525 is the total price after tax.\n"
     ]
    }
   ],
   "source": [
    "prices = [100,200,78,30.5,92]\n",
    "tax = 1.05\n",
    "for i in prices:\n",
    "    total = (prices[0] + prices[1] + prices[2] + prices[3] + prices[4])* tax\n",
    "\n",
    "print(\"$\",total, \"is the total price after tax.\")"
   ]
  },
  {
   "cell_type": "markdown",
   "metadata": {},
   "source": [
    "4) Create a function named div that takes two numeric arguments. Divide the first by the second. If the second argument is 0, return None. Otherwise, return the result of division."
   ]
  },
  {
   "cell_type": "code",
   "execution_count": 16,
   "metadata": {},
   "outputs": [
    {
     "name": "stdout",
     "output_type": "stream",
     "text": [
      "None\n",
      "3.0\n"
     ]
    }
   ],
   "source": [
    "def div(x,y):\n",
    "    try:\n",
    "        total = x/y\n",
    "    except ZeroDivisionError:\n",
    "        total = \"None\"\n",
    "        \n",
    "    return total\n",
    "print(div(10,0))\n",
    "print(div(9,3))"
   ]
  },
  {
   "cell_type": "markdown",
   "metadata": {},
   "source": [
    "5) Count the number of vowels in word."
   ]
  },
  {
   "cell_type": "code",
   "execution_count": 15,
   "metadata": {},
   "outputs": [
    {
     "name": "stdout",
     "output_type": "stream",
     "text": [
      "Number of vowels in MINIATURIZATIONiaou : 12\n"
     ]
    }
   ],
   "source": [
    "vowels = \"aeiou\"\n",
    "vowelsupper = vowels.upper()\n",
    "word = \"MINIATURIZATION\"\n",
    "\n",
    "v = 0\n",
    "for i in word:\n",
    "    if i in vowels:\n",
    "        v += 1\n",
    "    if i in vowelsupper:\n",
    "        v += 1\n",
    "    \n",
    "print(\"Number of vowels in\",word, \":\" , v)"
   ]
  },
  {
   "cell_type": "code",
   "execution_count": null,
   "metadata": {},
   "outputs": [],
   "source": []
  }
 ],
 "metadata": {
  "kernelspec": {
   "display_name": "Python 3 (ipykernel)",
   "language": "python",
   "name": "python3"
  },
  "language_info": {
   "codemirror_mode": {
    "name": "ipython",
    "version": 3
   },
   "file_extension": ".py",
   "mimetype": "text/x-python",
   "name": "python",
   "nbconvert_exporter": "python",
   "pygments_lexer": "ipython3",
   "version": "3.9.7"
  }
 },
 "nbformat": 4,
 "nbformat_minor": 2
}
