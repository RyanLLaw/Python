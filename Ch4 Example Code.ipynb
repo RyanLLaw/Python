{
 "cells": [
  {
   "cell_type": "code",
   "execution_count": 1,
   "id": "62e6ef9e",
   "metadata": {},
   "outputs": [
    {
     "name": "stdout",
     "output_type": "stream",
     "text": [
      "How many bugs were in the trap? 1: 2\n",
      "How many bugs were in the trap? 2: 3\n",
      "How many bugs were in the trap? 3: 4\n",
      "How many bugs were in the trap? 4: 2\n",
      "How many bugs were in the trap? 5: 3\n",
      "total 14.0\n",
      "Avg: 3.5\n"
     ]
    }
   ],
   "source": [
    "\n",
    "#accumulator variable x = 0\n",
    "#x = 0\n",
    "#while x < 5:\n",
    " #   x = x+1\n",
    "  #  bugs = float(input(\"How many bugs were in the trap? \"))\n",
    "  #  print(bugs)\n",
    "   # avg = bugs / 5\n",
    "    #print(avg)\n",
    "    \n",
    "    \n",
    "total = 0\n",
    "days = 4\n",
    "for i in range(0,5):\n",
    "    \n",
    "    bugs = float(input(\"How many bugs were in the trap? \" + str(i + 1) + \": \"))\n",
    "    total += float(bugs)\n",
    "    \n",
    "print(\"total\", total)\n",
    "print(\"Avg:\", total/days)\n",
    "        \n",
    "    "
   ]
  },
  {
   "cell_type": "code",
   "execution_count": 2,
   "id": "9f0160c9",
   "metadata": {},
   "outputs": [
    {
     "name": "stdout",
     "output_type": "stream",
     "text": [
      "Help on class range in module builtins:\n",
      "\n",
      "class range(object)\n",
      " |  range(stop) -> range object\n",
      " |  range(start, stop[, step]) -> range object\n",
      " |  \n",
      " |  Return an object that produces a sequence of integers from start (inclusive)\n",
      " |  to stop (exclusive) by step.  range(i, j) produces i, i+1, i+2, ..., j-1.\n",
      " |  start defaults to 0, and stop is omitted!  range(4) produces 0, 1, 2, 3.\n",
      " |  These are exactly the valid indices for a list of 4 elements.\n",
      " |  When step is given, it specifies the increment (or decrement).\n",
      " |  \n",
      " |  Methods defined here:\n",
      " |  \n",
      " |  __bool__(self, /)\n",
      " |      self != 0\n",
      " |  \n",
      " |  __contains__(self, key, /)\n",
      " |      Return key in self.\n",
      " |  \n",
      " |  __eq__(self, value, /)\n",
      " |      Return self==value.\n",
      " |  \n",
      " |  __ge__(self, value, /)\n",
      " |      Return self>=value.\n",
      " |  \n",
      " |  __getattribute__(self, name, /)\n",
      " |      Return getattr(self, name).\n",
      " |  \n",
      " |  __getitem__(self, key, /)\n",
      " |      Return self[key].\n",
      " |  \n",
      " |  __gt__(self, value, /)\n",
      " |      Return self>value.\n",
      " |  \n",
      " |  __hash__(self, /)\n",
      " |      Return hash(self).\n",
      " |  \n",
      " |  __iter__(self, /)\n",
      " |      Implement iter(self).\n",
      " |  \n",
      " |  __le__(self, value, /)\n",
      " |      Return self<=value.\n",
      " |  \n",
      " |  __len__(self, /)\n",
      " |      Return len(self).\n",
      " |  \n",
      " |  __lt__(self, value, /)\n",
      " |      Return self<value.\n",
      " |  \n",
      " |  __ne__(self, value, /)\n",
      " |      Return self!=value.\n",
      " |  \n",
      " |  __reduce__(...)\n",
      " |      Helper for pickle.\n",
      " |  \n",
      " |  __repr__(self, /)\n",
      " |      Return repr(self).\n",
      " |  \n",
      " |  __reversed__(...)\n",
      " |      Return a reverse iterator.\n",
      " |  \n",
      " |  count(...)\n",
      " |      rangeobject.count(value) -> integer -- return number of occurrences of value\n",
      " |  \n",
      " |  index(...)\n",
      " |      rangeobject.index(value) -> integer -- return index of value.\n",
      " |      Raise ValueError if the value is not present.\n",
      " |  \n",
      " |  ----------------------------------------------------------------------\n",
      " |  Static methods defined here:\n",
      " |  \n",
      " |  __new__(*args, **kwargs) from builtins.type\n",
      " |      Create and return a new object.  See help(type) for accurate signature.\n",
      " |  \n",
      " |  ----------------------------------------------------------------------\n",
      " |  Data descriptors defined here:\n",
      " |  \n",
      " |  start\n",
      " |  \n",
      " |  step\n",
      " |  \n",
      " |  stop\n",
      "\n"
     ]
    }
   ],
   "source": [
    "help(range)"
   ]
  },
  {
   "cell_type": "code",
   "execution_count": 5,
   "id": "0f30c14b",
   "metadata": {},
   "outputs": [
    {
     "name": "stdout",
     "output_type": "stream",
     "text": [
      "Enter Total Sales: 99\n",
      "Enter Comission Rate: 0.3\n",
      "Total Comission: $ 29.7\n",
      "Do you want to calculate another comission? Enter 'y' for yes: n\n"
     ]
    }
   ],
   "source": [
    "keep_going = 'y'\n",
    "\n",
    "while keep_going == 'y':\n",
    "    sales = float(input(\"Enter Total Sales: \"))\n",
    "    comm_r = float(input(\"Enter Comission Rate: \"))\n",
    "    print(\"Total Comission: $\", sales * comm_r)\n",
    "    \n",
    "    keep_going = input(\"Do you want to calculate another comission? Enter 'y' for yes: \")"
   ]
  },
  {
   "cell_type": "code",
   "execution_count": 4,
   "id": "0dbc9549",
   "metadata": {},
   "outputs": [
    {
     "name": "stdout",
     "output_type": "stream",
     "text": [
      "10 is at position 0 in the list\n",
      "20 is at position 1 in the list\n",
      "45 is at position 2 in the list\n",
      "10.5 is at position 3 in the list\n",
      "string literal is at position 4 in the list\n",
      "10\n"
     ]
    }
   ],
   "source": [
    "# This is a brief example of a list\n",
    "# lists hold objects (data), different types can be in a list\n",
    "items = [10,20,45,10.5,\"string literal\"]\n",
    "\n",
    "# We can iterate through a list with the 'in' keyword\n",
    "\n",
    "# x will hold the position\n",
    "x = 0\n",
    "\n",
    "for i in items:\n",
    "    print(i, \"is at position\", x, \"in the list\")\n",
    "    # i refers to the current item in the list\n",
    "    x = x + 1\n",
    "    \n",
    "# Since 0 is the first number in binary, the 1st element in the list is at position 0\n",
    "print(items[0])"
   ]
  },
  {
   "cell_type": "code",
   "execution_count": 5,
   "id": "92223180",
   "metadata": {},
   "outputs": [
    {
     "name": "stdout",
     "output_type": "stream",
     "text": [
      "0 + 40 = 40\n",
      "40 + 20 = 60\n",
      "60 + 15 = 75\n",
      "75 + 3 = 78\n",
      "78 + 12 = 90\n",
      "90\n"
     ]
    }
   ],
   "source": [
    "# Example of summing a list of numeric values\n",
    "\n",
    "values = [40,20,15,3,12]\n",
    "total = 0\n",
    "\n",
    "for v in values:\n",
    "    print(total,\"+\",v,\"=\",total + v)\n",
    "    total += v\n",
    "\n",
    "print(total)"
   ]
  },
  {
   "cell_type": "code",
   "execution_count": 6,
   "id": "2b74488c",
   "metadata": {},
   "outputs": [
    {
     "name": "stdout",
     "output_type": "stream",
     "text": [
      "Enter the next Sale Item: 30\n",
      "Enter the next Sale Item: 20\n",
      "Enter the next Sale Item: x\n",
      "Total Sale: $ 50.0\n"
     ]
    }
   ],
   "source": [
    "total_sale = 0\n",
    "\n",
    "# We'll continue the loop until the user wishes to end it\n",
    "while True:\n",
    "    user_in = input(\"Enter the next Sale Item: \")\n",
    "    \n",
    "    # If the user inputs an 'exit' command, break the loop\n",
    "    if (user_in == \"x\"):\n",
    "        break\n",
    "    else: # Otherwise, add the input to total_sale\n",
    "        total_sale += float(user_in)\n",
    "    \n",
    "print(\"Total Sale: $\", total_sale)\n",
    "    "
   ]
  },
  {
   "cell_type": "code",
   "execution_count": 2,
   "id": "baa65759",
   "metadata": {},
   "outputs": [
    {
     "name": "stdout",
     "output_type": "stream",
     "text": [
      "0\n",
      "1\n",
      "2\n",
      "3\n",
      "4\n",
      "5\n",
      "6\n",
      "7\n",
      "8\n",
      "9\n",
      "\n",
      "0\n",
      "1\n",
      "2\n",
      "3\n",
      "4\n",
      "5\n",
      "6\n",
      "7\n",
      "8\n",
      "9\n"
     ]
    }
   ],
   "source": [
    "for i in range(0,10):\n",
    "    print(i)\n",
    "    \n",
    "# Note that the range does not go up to 10, it stops at 9\n",
    "   \n",
    "# Printing the empty string will end up printing a newline character\n",
    "print(\"\")\n",
    "\n",
    "# An alternate way to write the above without the use of range\n",
    "x = 0\n",
    "while x < 10:\n",
    "    print(x)\n",
    "    x = x + 1\n",
    "\n",
    "# Feel free to play with the range argument to see how this works!"
   ]
  },
  {
   "cell_type": "code",
   "execution_count": 3,
   "id": "12bee0dc",
   "metadata": {},
   "outputs": [
    {
     "name": "stdout",
     "output_type": "stream",
     "text": [
      "10\n",
      "9\n",
      "8\n",
      "7\n",
      "6\n",
      "5\n",
      "4\n",
      "3\n",
      "2\n",
      "1\n"
     ]
    }
   ],
   "source": [
    "# Example of a descending range, note that it starts at 10 and ends at 1\n",
    "for i in range(10,0,-1):\n",
    "    print(i)"
   ]
  },
  {
   "cell_type": "code",
   "execution_count": 8,
   "id": "4c5996e3",
   "metadata": {},
   "outputs": [
    {
     "ename": "IndentationError",
     "evalue": "expected an indented block (885646398.py, line 14)",
     "output_type": "error",
     "traceback": [
      "\u001b[0;36m  File \u001b[0;32m\"/var/folders/j3/1nkjngl51fn2qm46cls3nmxr0000gn/T/ipykernel_18156/885646398.py\"\u001b[0;36m, line \u001b[0;32m14\u001b[0m\n\u001b[0;31m    # user_in != \"+\" or user_in != \"-\"\u001b[0m\n\u001b[0m                                       ^\u001b[0m\n\u001b[0;31mIndentationError\u001b[0m\u001b[0;31m:\u001b[0m expected an indented block\n"
     ]
    }
   ],
   "source": [
    "user_in = input(\"Enter a non-negative Integer: \")\n",
    "\n",
    "# isnumeric is a string function that will return True/False if the string\n",
    "# only contains 0-9. A string with - and . will return False, so this is only suitable\n",
    "# for 0,1,2,3.... (non-negative integers)\n",
    "\n",
    "while user_in.isnumeric() == False:\n",
    "    print(\"Error:\", user_in, \"is not an non-negative Integer!\")\n",
    "    user_in = input(\"Enter an non-negative Integer: \")\n",
    "    \n",
    "print(\"Entered: \", user_in)\n",
    "\n",
    "while user_in not in (\"+\",\"-\",\"/\",\"*\"):\n",
    "# user_in != \"+\" or user_in != \"-\" "
   ]
  },
  {
   "cell_type": "code",
   "execution_count": null,
   "id": "88837fe5",
   "metadata": {},
   "outputs": [],
   "source": [
    "# This is another way to implement input validation\n",
    "\n",
    "while True:\n",
    "    user_in = input(\"Enter an non-negative Integer: \")\n",
    "    \n",
    "    # Instead of prompting for input first, we ask in the loop then check if we should continue\n",
    "    if user_in.isnumeric() == False:\n",
    "        print(\"Error:\", user_in, \"is not an non-negative Integer!\")\n",
    "    else:\n",
    "        break # Exit the loop\n",
    "\n",
    "    \n",
    "print(\"Entered: \", user_in)"
   ]
  },
  {
   "cell_type": "code",
   "execution_count": 3,
   "id": "79d8f624",
   "metadata": {},
   "outputs": [
    {
     "name": "stdout",
     "output_type": "stream",
     "text": [
      "Enter an positive Integer: -1\n",
      "Error: -1 is not an positive Integer!\n",
      "Enter an positive Integer: 10.5\n",
      "Error: 10.5 is not an positive Integer!\n",
      "Enter an positive Integer: 20.4424\n",
      "Error: 20.4424 is not an positive Integer!\n",
      "Enter an positive Integer: 0\n",
      "Entered:  0\n"
     ]
    }
   ],
   "source": [
    "# One more way to do it, we use a boolean variable\n",
    "input_invalid = True # Since it's set to true by default we'll always enter the loop\n",
    "\n",
    "while input_invalid:\n",
    "    user_in = input(\"Enter an non-negative Integer: \")\n",
    "    \n",
    "    input_invalid = not user_in.isnumeric()\n",
    "    \n",
    "    if input_invalid:\n",
    "        print(\"Error:\", user_in, \"is not an non-negative Integer!\")\n",
    "        \n",
    "print(\"Entered: \", user_in)"
   ]
  },
  {
   "cell_type": "code",
   "execution_count": 9,
   "id": "3eb768c0",
   "metadata": {},
   "outputs": [
    {
     "name": "stdout",
     "output_type": "stream",
     "text": [
      "1\n",
      "2\n",
      "4\n",
      "6\n",
      "8\n",
      "10\n",
      "\n",
      "2\n",
      "4\n",
      "8\n",
      "12\n",
      "16\n",
      "20\n",
      "\n",
      "3\n",
      "6\n",
      "12\n",
      "18\n",
      "24\n",
      "30\n",
      "\n",
      "4\n",
      "8\n",
      "16\n",
      "24\n",
      "32\n",
      "40\n",
      "\n",
      "5\n",
      "10\n",
      "20\n",
      "30\n",
      "40\n",
      "50\n",
      "\n"
     ]
    }
   ],
   "source": [
    "# Nested Loops\n",
    "nums = [1,2,3,4,5]\n",
    "mult = [2,4,6,8,10]\n",
    "\n",
    "for n in nums:\n",
    "    print(n)\n",
    "    for m in mult:\n",
    "        print(n*m)\n",
    "        \n",
    "    print(\"\")"
   ]
  },
  {
   "cell_type": "code",
   "execution_count": null,
   "id": "cfba6993",
   "metadata": {},
   "outputs": [],
   "source": []
  }
 ],
 "metadata": {
  "kernelspec": {
   "display_name": "Python 3 (ipykernel)",
   "language": "python",
   "name": "python3"
  },
  "language_info": {
   "codemirror_mode": {
    "name": "ipython",
    "version": 3
   },
   "file_extension": ".py",
   "mimetype": "text/x-python",
   "name": "python",
   "nbconvert_exporter": "python",
   "pygments_lexer": "ipython3",
   "version": "3.9.7"
  }
 },
 "nbformat": 4,
 "nbformat_minor": 5
}
