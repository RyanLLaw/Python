{
 "cells": [
  {
   "cell_type": "markdown",
   "metadata": {},
   "source": [
    "1) Count the number of uppercase, lowercase, and numbers in a string"
   ]
  },
  {
   "cell_type": "code",
   "execution_count": 2,
   "metadata": {},
   "outputs": [
    {
     "name": "stdout",
     "output_type": "stream",
     "text": [
      "Lowercase: 9 Uppercase: 8 Numbers: 7\n"
     ]
    }
   ],
   "source": [
    "lower = \"abcdefghijklmnopqrstuvwxyz\"\n",
    "upper = lower.upper()\n",
    "num = \"1234567890\"\n",
    "\n",
    "string = \"jhjhSBBFIFKLnnmnm2004394!%^#\"\n",
    "\n",
    "l = 0\n",
    "u = 0\n",
    "n = 0\n",
    "\n",
    "# For each character in string, check if it's in lower, upper, num\n",
    "\n",
    "for c in string:\n",
    "    if c in lower:\n",
    "        l += 1\n",
    "    \n",
    "    if c in upper:\n",
    "        u += 1\n",
    "        \n",
    "    if c in num:\n",
    "        n += 1\n",
    "        \n",
    "print(\"Lowercase:\", l, \"Uppercase:\", u, \"Numbers:\", n)"
   ]
  },
  {
   "cell_type": "markdown",
   "metadata": {},
   "source": [
    "2) Prompt the user to enter a sentence. Divide the sentence up into words, and count the number of names used. (Name is provided)"
   ]
  },
  {
   "cell_type": "code",
   "execution_count": 1,
   "metadata": {},
   "outputs": [
    {
     "name": "stdout",
     "output_type": "stream",
     "text": [
      "Enter a sentence: Hey Robert is James here\n",
      "Hey\n",
      "Robert\n",
      "is\n",
      "James\n",
      "here\n",
      "2 names found in Hey Robert is James here\n"
     ]
    }
   ],
   "source": [
    "names = [\"James\", \"Jill\", \"Robert\", \"Bob\", \"Sarah\"]\n",
    "\n",
    "sen = input(\"Enter a sentence: \")\n",
    "\n",
    "n = 0\n",
    "\n",
    "for l in sen.split(\" \"):\n",
    "    print(l)\n",
    "    if l in names:\n",
    "        n += 1\n",
    "        \n",
    "print(n, \"names found in\",sen)"
   ]
  },
  {
   "cell_type": "markdown",
   "metadata": {},
   "source": [
    "3) Ask the user to enter a password. Go through the string and check if it fulfills the password rules. Check if there is a capital letter, there is a number, special character, and it is at least 6 characters long."
   ]
  },
  {
   "cell_type": "code",
   "execution_count": 7,
   "metadata": {},
   "outputs": [
    {
     "name": "stdout",
     "output_type": "stream",
     "text": [
      "Enter a password: A!2dssfsfsfhsd\n",
      "True\n"
     ]
    }
   ],
   "source": [
    "upper = lower.upper()\n",
    "numbers = \"1234567890\"\n",
    "specials = \"!@#$%^&*()-+_=\"\n",
    "\n",
    "password = input(\"Enter a password: \")\n",
    "\n",
    "cap = False\n",
    "num = False\n",
    "special = False\n",
    "long = len(password) >= 6\n",
    "\n",
    "for c in password:\n",
    "    \n",
    "    if c in upper:\n",
    "        cap = True\n",
    "        \n",
    "    if c in numbers:\n",
    "        num = True\n",
    "    \n",
    "    if c in specials:\n",
    "        special = True\n",
    "        \n",
    "print(cap and num and special and long)"
   ]
  }
 ],
 "metadata": {
  "kernelspec": {
   "display_name": "Python 3 (ipykernel)",
   "language": "python",
   "name": "python3"
  },
  "language_info": {
   "codemirror_mode": {
    "name": "ipython",
    "version": 3
   },
   "file_extension": ".py",
   "mimetype": "text/x-python",
   "name": "python",
   "nbconvert_exporter": "python",
   "pygments_lexer": "ipython3",
   "version": "3.9.7"
  }
 },
 "nbformat": 4,
 "nbformat_minor": 2
}
