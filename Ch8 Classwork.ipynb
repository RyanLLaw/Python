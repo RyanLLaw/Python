{
 "cells": [
  {
   "cell_type": "markdown",
   "metadata": {},
   "source": [
    "1) Count the number of uppercase, lowercase, and numbers in a string"
   ]
  },
  {
   "cell_type": "code",
   "execution_count": 1,
   "metadata": {},
   "outputs": [
    {
     "name": "stdout",
     "output_type": "stream",
     "text": [
      "Lowercase 9 Uppercase 8 Numbers: 7\n"
     ]
    }
   ],
   "source": [
    "lower = \"abcdefghijklmnopqrstuvwxyz\"\n",
    "upper = lower.upper()\n",
    "num = \"1234567890\"\n",
    "\n",
    "string = \"jhjhSBBFIFKLnnmnm2004394!%^#\"\n",
    "\n",
    "l = 0\n",
    "u = 0\n",
    "n = 0\n",
    "\n",
    "for c in string:\n",
    "    if c in lower:\n",
    "        l+=1\n",
    "    if c in upper:\n",
    "        u+= 1\n",
    "    if c in num:\n",
    "        n += 1\n",
    "        \n",
    "print(\"Lowercase\", l, \"Uppercase\", u, \"Numbers:\", n)\n",
    "        \n",
    "\n",
    "# For each character in string, check if it's in lower, upper, num\n",
    "\n"
   ]
  },
  {
   "cell_type": "markdown",
   "metadata": {},
   "source": [
    "2) Prompt the user to enter a sentence. Divide the sentence up into words, and count the number of names used. (Name is provided)"
   ]
  },
  {
   "cell_type": "code",
   "execution_count": 4,
   "metadata": {
    "scrolled": true
   },
   "outputs": [
    {
     "name": "stdout",
     "output_type": "stream",
     "text": [
      "Enter a sentence: Hey James is Robert with you\n",
      "Hey\n",
      "James\n",
      "is\n",
      "Robert\n",
      "with\n",
      "you\n",
      "2 names found in Hey James is Robert with you\n"
     ]
    }
   ],
   "source": [
    "names = [\"James\", \"Jill\", \"Robert\", \"Bob\", \"Sarah\"]\n",
    "sentence = str(input(\"Enter a sentence: \"))\n",
    "n = 0\n",
    "\n",
    "for w in sentence.split(\" \"):\n",
    "    print (w)\n",
    "    if w in names: n+= 1\n",
    "        \n",
    "print(n,\"names found in\", sentence)\n"
   ]
  },
  {
   "cell_type": "markdown",
   "metadata": {},
   "source": [
    "3) Ask the user to enter a password. Go through the string and check if it fulfills the password rules. Check if there is a capital letter, there is a number, special character, and it is at least 6 characters long."
   ]
  },
  {
   "cell_type": "code",
   "execution_count": 2,
   "metadata": {},
   "outputs": [
    {
     "ename": "NameError",
     "evalue": "name 'lower' is not defined",
     "output_type": "error",
     "traceback": [
      "\u001b[0;31m---------------------------------------------------------------------------\u001b[0m",
      "\u001b[0;31mNameError\u001b[0m                                 Traceback (most recent call last)",
      "\u001b[0;32m/var/folders/j3/1nkjngl51fn2qm46cls3nmxr0000gn/T/ipykernel_3792/331702184.py\u001b[0m in \u001b[0;36m<module>\u001b[0;34m\u001b[0m\n\u001b[0;32m----> 1\u001b[0;31m \u001b[0mupper\u001b[0m \u001b[0;34m=\u001b[0m \u001b[0mlower\u001b[0m\u001b[0;34m.\u001b[0m\u001b[0mupper\u001b[0m\u001b[0;34m(\u001b[0m\u001b[0;34m)\u001b[0m\u001b[0;34m\u001b[0m\u001b[0;34m\u001b[0m\u001b[0m\n\u001b[0m\u001b[1;32m      2\u001b[0m \u001b[0mnumbers\u001b[0m \u001b[0;34m=\u001b[0m \u001b[0;34m\"1234567890\"\u001b[0m\u001b[0;34m\u001b[0m\u001b[0;34m\u001b[0m\u001b[0m\n\u001b[1;32m      3\u001b[0m \u001b[0mspecials\u001b[0m \u001b[0;34m=\u001b[0m \u001b[0;34m\"!@#$%^&*()-+_=\"\u001b[0m\u001b[0;34m\u001b[0m\u001b[0;34m\u001b[0m\u001b[0m\n\u001b[1;32m      4\u001b[0m \u001b[0;34m\u001b[0m\u001b[0m\n\u001b[1;32m      5\u001b[0m \u001b[0mpassword\u001b[0m \u001b[0;34m=\u001b[0m \u001b[0minput\u001b[0m\u001b[0;34m(\u001b[0m\u001b[0;34m\"Enter a password: \"\u001b[0m\u001b[0;34m)\u001b[0m\u001b[0;34m\u001b[0m\u001b[0;34m\u001b[0m\u001b[0m\n",
      "\u001b[0;31mNameError\u001b[0m: name 'lower' is not defined"
     ]
    }
   ],
   "source": [
    "upper = lower.upper()\n",
    "numbers = \"1234567890\"\n",
    "specials = \"!@#$%^&*()-+_=\"\n",
    "\n",
    "password = input(\"Enter a password: \")\n",
    "\n",
    "cap = False\n",
    "num = False\n",
    "special = False\n",
    "long = len(password) >= 6\n",
    "\n",
    "for l in string:\n",
    "    if l in upper:\n",
    "        cap = True\n",
    "    if l in numbers:\n",
    "        num = True\n",
    "    if l in specials:\n",
    "        special = True\n",
    "\n",
    "print(cap and num and special and long)\n",
    "# Hint, loop through all characters to check for cap,num,special\n"
   ]
  },
  {
   "cell_type": "code",
   "execution_count": null,
   "metadata": {},
   "outputs": [],
   "source": []
  }
 ],
 "metadata": {
  "kernelspec": {
   "display_name": "Python 3 (ipykernel)",
   "language": "python",
   "name": "python3"
  },
  "language_info": {
   "codemirror_mode": {
    "name": "ipython",
    "version": 3
   },
   "file_extension": ".py",
   "mimetype": "text/x-python",
   "name": "python",
   "nbconvert_exporter": "python",
   "pygments_lexer": "ipython3",
   "version": "3.9.7"
  }
 },
 "nbformat": 4,
 "nbformat_minor": 2
}
