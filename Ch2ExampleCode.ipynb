{
 "cells": [
  {
   "cell_type": "markdown",
   "id": "1a66f4b5",
   "metadata": {},
   "source": [
    "# Chapter 2 Example Code"
   ]
  },
  {
   "cell_type": "code",
   "execution_count": null,
   "id": "024ee303",
   "metadata": {},
   "outputs": [],
   "source": [
    "# This is a comment\n",
    "\n",
    "s = \"This is a string literal\"\n",
    "num = 10 # in this case, 10 is a numeric literal\n",
    "\n",
    "print(\"The following is example of printing two variables at once\")\n",
    "print(s, num)\n",
    "print(\"This shows how to use string concatination and type conversion\")\n",
    "print(s + \" \" + str(num))"
   ]
  },
  {
   "cell_type": "code",
   "execution_count": 3,
   "id": "50e38f75",
   "metadata": {},
   "outputs": [
    {
     "name": "stdout",
     "output_type": "stream",
     "text": [
      "Float of 25 is: 25.0 \n",
      " Int of 25.0 is 25\n",
      "25.5 converted to an int is 25\n"
     ]
    }
   ],
   "source": [
    "# Shows float/int conversion\n",
    "fnum = float(25)\n",
    "print(\"Float of 25 is:\", fnum, \"\\n\", \"Int of\", fnum, \"is\", int(fnum))\n",
    "\n",
    "# Shows what happens to a float when converted to an int\n",
    "print(\"25.5 converted to an int is\",int(25.5)) \n",
    "\n",
    "# Type Conversion\n",
    "snum = str(25.0)\n",
    "num = float(snum)"
   ]
  },
  {
   "cell_type": "code",
   "execution_count": 6,
   "id": "f4855646",
   "metadata": {},
   "outputs": [
    {
     "name": "stdout",
     "output_type": "stream",
     "text": [
      "Enter a number: 9\n",
      "9\n",
      "<class 'str'>\n"
     ]
    }
   ],
   "source": [
    "# Example of using input\n",
    "\n",
    "usrIn = input(\"Enter a number: \")\n",
    "\n",
    "print(usrIn)\n",
    "print(type(usrIn)) # Type command returns the type of the value a variable points to"
   ]
  },
  {
   "cell_type": "code",
   "execution_count": 7,
   "id": "ddd6873a",
   "metadata": {},
   "outputs": [
    {
     "name": "stdout",
     "output_type": "stream",
     "text": [
      "30.8\n"
     ]
    }
   ],
   "source": [
    "a = float(usrIn) * 0.1 * 2**4 # Example of multiplication and exponent\n",
    "a += 1 # a = a + 1\n",
    "a *= 2 # a = a * 2\n",
    "print(a)"
   ]
  },
  {
   "cell_type": "code",
   "execution_count": 1,
   "id": "92e11e2a",
   "metadata": {},
   "outputs": [
    {
     "name": "stdout",
     "output_type": "stream",
     "text": [
      "Enter a whole number/integer: 7\n",
      "1\n"
     ]
    }
   ],
   "source": [
    "# Let's see if a number the user inputs is even or odd\n",
    "usrIn = int(input(\"Enter a whole number/integer: \"))\n",
    "remainder = usrIn % 2\n",
    "print(remainder) \n",
    "# 0 is even, 1 is odd"
   ]
  },
  {
   "cell_type": "code",
   "execution_count": 2,
   "id": "02485867",
   "metadata": {},
   "outputs": [
    {
     "name": "stdout",
     "output_type": "stream",
     "text": [
      "The remainder of 7 divided by 2 is 1\n",
      "The remainder of 7 divided by 2 is 1\n",
      "The remainder of\n",
      "7\n",
      "divided by\n",
      "2\n",
      "is\n",
      "1\n"
     ]
    }
   ],
   "source": [
    "# More advanced example of string concatination\n",
    "string = \"The remainder of \" + str(usrIn) + \" divided by \" + str(2) + \" is \" + str(remainder)\n",
    "print(string)\n",
    "\n",
    "# Note that with print, we don't need the spaces between arguments\n",
    "print(\"The remainder of\",usrIn,\"divided by\",2,\"is\",remainder)\n",
    "\n",
    "# An example of using the sep argument to have a line between each argument\n",
    "print(\"The remainder of\",usrIn,\"divided by\",2,\"is\",remainder, sep = '\\n')"
   ]
  },
  {
   "cell_type": "code",
   "execution_count": 8,
   "id": "933c7114",
   "metadata": {},
   "outputs": [
    {
     "name": "stdout",
     "output_type": "stream",
     "text": [
      "30.8\n"
     ]
    }
   ],
   "source": [
    "print (a)"
   ]
  },
  {
   "cell_type": "code",
   "execution_count": null,
   "id": "24f30e9c",
   "metadata": {},
   "outputs": [],
   "source": []
  }
 ],
 "metadata": {
  "kernelspec": {
   "display_name": "Python 3 (ipykernel)",
   "language": "python",
   "name": "python3"
  },
  "language_info": {
   "codemirror_mode": {
    "name": "ipython",
    "version": 3
   },
   "file_extension": ".py",
   "mimetype": "text/x-python",
   "name": "python",
   "nbconvert_exporter": "python",
   "pygments_lexer": "ipython3",
   "version": "3.9.7"
  }
 },
 "nbformat": 4,
 "nbformat_minor": 5
}
